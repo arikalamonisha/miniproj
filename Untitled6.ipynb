{
  "nbformat": 4,
  "nbformat_minor": 0,
  "metadata": {
    "colab": {
      "provenance": [],
      "authorship_tag": "ABX9TyP7EytO5Hh4TzLI+3jfHDYU",
      "include_colab_link": true
    },
    "kernelspec": {
      "name": "python3",
      "display_name": "Python 3"
    },
    "language_info": {
      "name": "python"
    }
  },
  "cells": [
    {
      "cell_type": "markdown",
      "metadata": {
        "id": "view-in-github",
        "colab_type": "text"
      },
      "source": [
        "<a href=\"https://colab.research.google.com/github/arikalamonisha/miniproj/blob/main/Untitled6.ipynb\" target=\"_parent\"><img src=\"https://colab.research.google.com/assets/colab-badge.svg\" alt=\"Open In Colab\"/></a>"
      ]
    },
    {
      "cell_type": "code",
      "execution_count": null,
      "metadata": {
        "id": "DI3NkKjGoqkn"
      },
      "outputs": [],
      "source": []
    },
    {
      "cell_type": "code",
      "source": [
        "import torch\n",
        "print(torch.__version__)\n",
        "print(torch.cuda.is_available())\n"
      ],
      "metadata": {
        "colab": {
          "base_uri": "https://localhost:8080/"
        },
        "id": "ieo0nx9Mosz3",
        "outputId": "3880b0ff-3eb0-40b1-d294-cac27cf9ebfe"
      },
      "execution_count": 1,
      "outputs": [
        {
          "output_type": "stream",
          "name": "stdout",
          "text": [
            "2.6.0+cu124\n",
            "False\n"
          ]
        }
      ]
    },
    {
      "cell_type": "code",
      "source": [
        "import torch\n",
        "import torch.nn as nn\n",
        "import torch.optim as optim\n",
        "import copy\n",
        "import random\n",
        "\n",
        "# --- Multi-Modal Model ---\n",
        "class MultiModalModel(nn.Module):\n",
        "    def __init__(self):\n",
        "        super().__init__()\n",
        "        self.image_branch = nn.Sequential(\n",
        "            nn.Conv2d(1, 16, 3, padding=1), nn.ReLU(), nn.MaxPool2d(2),\n",
        "            nn.Conv2d(16, 32, 3, padding=1), nn.ReLU(), nn.MaxPool2d(2),\n",
        "            nn.Flatten()\n",
        "        )\n",
        "        self.tabular_branch = nn.Sequential(\n",
        "            nn.Linear(10, 32), nn.ReLU(),  # Assume 10 EHR features\n",
        "            nn.Linear(32, 16)\n",
        "        )\n",
        "        self.classifier = nn.Sequential(\n",
        "            nn.Linear(32*8*8 + 16, 64), nn.ReLU(),  # Adjust if needed\n",
        "            nn.Linear(64, 2)  # Binary classification: COVID vs. Non-COVID\n",
        "        )\n",
        "\n",
        "    def forward(self, image, tabular):\n",
        "        x1 = self.image_branch(image)\n",
        "        x2 = self.tabular_branch(tabular)\n",
        "        x = torch.cat((x1, x2), dim=1)\n",
        "        return self.classifier(x)\n",
        "\n",
        "# --- Simulate Client Training ---\n",
        "def train_client(model, data_loader, epochs=1):\n",
        "    model = copy.deepcopy(model)\n",
        "    model.train()\n",
        "    criterion = nn.CrossEntropyLoss()\n",
        "    optimizer = optim.Adam(model.parameters(), lr=0.001)\n",
        "\n",
        "    for _ in range(epochs):\n",
        "        for image, tabular, label in data_loader:\n",
        "            optimizer.zero_grad()\n",
        "            output = model(image, tabular)\n",
        "            loss = criterion(output, label)\n",
        "            loss.backward()\n",
        "            optimizer.step()\n",
        "    return model.state_dict()\n",
        "\n",
        "# --- Federated Averaging ---\n",
        "def federated_avg(state_dicts):\n",
        "    avg_dict = copy.deepcopy(state_dicts[0])\n",
        "    for key in avg_dict.keys():\n",
        "        for i in range(1, len(state_dicts)):\n",
        "            avg_dict[key] += state_dicts[i][key]\n",
        "        avg_dict[key] = torch.div(avg_dict[key], len(state_dicts))\n",
        "    return avg_dict\n",
        "\n",
        "# --- Simulation Setup ---\n",
        "def simulate_federated_learning(global_model, client_loaders, rounds=5):\n",
        "    for r in range(rounds):\n",
        "        print(f\"\\n--- Round {r+1} ---\")\n",
        "        local_weights = []\n",
        "        for client_id, loader in enumerate(client_loaders):\n",
        "            print(f\"Training on Client {client_id}\")\n",
        "            local_model = train_client(global_model, loader)\n",
        "            local_weights.append(local_model)\n",
        "        avg_weights = federated_avg(local_weights)\n",
        "        global_model.load_state_dict(avg_weights)\n",
        "    return global_model\n"
      ],
      "metadata": {
        "id": "95y-1Wc-o8Cl"
      },
      "execution_count": 10,
      "outputs": []
    }
  ]
}